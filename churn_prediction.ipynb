{
 "cells": [
  {
   "cell_type": "markdown",
   "id": "de35ddbb",
   "metadata": {
    "toc": true
   },
   "source": [
    "<h1>Table of Contents<span class=\"tocSkip\"></span></h1>\n",
    "<div class=\"toc\"><ul class=\"toc-item\"><li><span><a href=\"#Подготовка-данных\" data-toc-modified-id=\"Подготовка-данных-1\"><span class=\"toc-item-num\">1&nbsp;&nbsp;</span>Подготовка данных</a></span><ul class=\"toc-item\"><li><span><a href=\"#Изучение-данных\" data-toc-modified-id=\"Изучение-данных-1.1\"><span class=\"toc-item-num\">1.1&nbsp;&nbsp;</span>Изучение данных</a></span></li><li><span><a href=\"#Приводим-названия-столбцов-к-нижнему-регистру\" data-toc-modified-id=\"Приводим-названия-столбцов-к-нижнему-регистру-1.2\"><span class=\"toc-item-num\">1.2&nbsp;&nbsp;</span>Приводим названия столбцов к нижнему регистру</a></span></li><li><span><a href=\"#Удаление-пропусков\" data-toc-modified-id=\"Удаление-пропусков-1.3\"><span class=\"toc-item-num\">1.3&nbsp;&nbsp;</span>Удаление пропусков</a></span></li><li><span><a href=\"#Проверка-на-дубликаты\" data-toc-modified-id=\"Проверка-на-дубликаты-1.4\"><span class=\"toc-item-num\">1.4&nbsp;&nbsp;</span>Проверка на дубликаты</a></span></li><li><span><a href=\"#Удаление-лишних-столбцов\" data-toc-modified-id=\"Удаление-лишних-столбцов-1.5\"><span class=\"toc-item-num\">1.5&nbsp;&nbsp;</span>Удаление лишних столбцов</a></span></li><li><span><a href=\"#Преобразование-категориальных-признаков-в-численные-(OHE)\" data-toc-modified-id=\"Преобразование-категориальных-признаков-в-численные-(OHE)-1.6\"><span class=\"toc-item-num\">1.6&nbsp;&nbsp;</span>Преобразование категориальных признаков в численные (OHE)</a></span></li><li><span><a href=\"#Выделение-целевого-признака\" data-toc-modified-id=\"Выделение-целевого-признака-1.7\"><span class=\"toc-item-num\">1.7&nbsp;&nbsp;</span>Выделение целевого признака</a></span></li><li><span><a href=\"#Масштабирование-численных-признаков\" data-toc-modified-id=\"Масштабирование-численных-признаков-1.8\"><span class=\"toc-item-num\">1.8&nbsp;&nbsp;</span>Масштабирование численных признаков</a></span></li></ul></li><li><span><a href=\"#Исследование-задачи\" data-toc-modified-id=\"Исследование-задачи-2\"><span class=\"toc-item-num\">2&nbsp;&nbsp;</span>Исследование задачи</a></span><ul class=\"toc-item\"><li><span><a href=\"#Исследование-баланса-классов\" data-toc-modified-id=\"Исследование-баланса-классов-2.1\"><span class=\"toc-item-num\">2.1&nbsp;&nbsp;</span>Исследование баланса классов</a></span></li><li><span><a href=\"#Обучение-базовых-моделей-без-учета-дисбаланса-классов\" data-toc-modified-id=\"Обучение-базовых-моделей-без-учета-дисбаланса-классов-2.2\"><span class=\"toc-item-num\">2.2&nbsp;&nbsp;</span>Обучение базовых моделей без учета дисбаланса классов</a></span></li><li><span><a href=\"#Вывод\" data-toc-modified-id=\"Вывод-2.3\"><span class=\"toc-item-num\">2.3&nbsp;&nbsp;</span>Вывод</a></span></li></ul></li><li><span><a href=\"#Борьба-с-дисбалансом\" data-toc-modified-id=\"Борьба-с-дисбалансом-3\"><span class=\"toc-item-num\">3&nbsp;&nbsp;</span>Борьба с дисбалансом</a></span><ul class=\"toc-item\"><li><span><a href=\"#Upsampling\" data-toc-modified-id=\"Upsampling-3.1\"><span class=\"toc-item-num\">3.1&nbsp;&nbsp;</span>Upsampling</a></span></li><li><span><a href=\"#Downsampling\" data-toc-modified-id=\"Downsampling-3.2\"><span class=\"toc-item-num\">3.2&nbsp;&nbsp;</span>Downsampling</a></span></li><li><span><a href=\"#Взвешивание-классов\" data-toc-modified-id=\"Взвешивание-классов-3.3\"><span class=\"toc-item-num\">3.3&nbsp;&nbsp;</span>Взвешивание классов</a></span></li><li><span><a href=\"#Оптимизация-гиперпараметров-случайного-леса\" data-toc-modified-id=\"Оптимизация-гиперпараметров-случайного-леса-3.4\"><span class=\"toc-item-num\">3.4&nbsp;&nbsp;</span>Оптимизация гиперпараметров случайного леса</a></span></li><li><span><a href=\"#Случайный-лес-с-оптимальными-гиперпараметрами-и-взвешиванием-классов\" data-toc-modified-id=\"Случайный-лес-с-оптимальными-гиперпараметрами-и-взвешиванием-классов-3.5\"><span class=\"toc-item-num\">3.5&nbsp;&nbsp;</span>Случайный лес с оптимальными гиперпараметрами и взвешиванием классов</a></span></li><li><span><a href=\"#Вывод\" data-toc-modified-id=\"Вывод-3.6\"><span class=\"toc-item-num\">3.6&nbsp;&nbsp;</span>Вывод</a></span></li></ul></li><li><span><a href=\"#Тестирование-модели\" data-toc-modified-id=\"Тестирование-модели-4\"><span class=\"toc-item-num\">4&nbsp;&nbsp;</span>Тестирование модели</a></span></li><li><span><a href=\"#Вывод\" data-toc-modified-id=\"Вывод-5\"><span class=\"toc-item-num\">5&nbsp;&nbsp;</span>Вывод</a></span></li></ul></div>"
   ]
  },
  {
   "cell_type": "markdown",
   "id": "394f3de4",
   "metadata": {},
   "source": [
    "# Отток клиентов"
   ]
  },
  {
   "cell_type": "markdown",
   "id": "811f22c5",
   "metadata": {},
   "source": [
    "Из «Бета-Банка» стали уходить клиенты. Каждый месяц. Немного, но заметно. Банковские маркетологи посчитали: сохранять текущих клиентов дешевле, чем привлекать новых.\n",
    "\n",
    "Нужно спрогнозировать, уйдёт клиент из банка в ближайшее время или нет. У нас в распоряжении исторические данные о поведении клиентов и расторжении договоров с банком. \n",
    "\n",
    "Задача: построить модель с предельно большим значением *F1*-меры. Минимальный порог метрики - 0.59.\n",
    "\n",
    "Источник данных: [https://www.kaggle.com/barelydedicated/bank-customer-churn-modeling](https://www.kaggle.com/barelydedicated/bank-customer-churn-modeling)"
   ]
  },
  {
   "cell_type": "markdown",
   "id": "5fec1b49",
   "metadata": {},
   "source": [
    "**Цель исследования**: построить модель машинного обучения, которая сможет предсказать, уйдёт клиент из \"Бета-Банка\" в ближайшее время или нет, на основе исторических данных о поведении клиентов и расторжении договоров с банком. Модель должна достичь значения F1-меры не менее 0.59. Дополнительно будем измерять AUC-ROC и сравнивать её значение с F1-мерой.\n",
    "\n",
    "**Ход исследования:**\n",
    "\n",
    "1. Загрузка и подготовка данных\n",
    "- Импортируем необходимые библиотеки\n",
    "- Загрузим предоставленные данные\n",
    "- Изучим данные: проверим на наличие пропусков и дубликатов, а также осуществим преобразования при необходимости\n",
    "- Разделим данные на обучающую, валидационную и тестовую выборки\n",
    "- Исследование баланса классов и обучение модели без учёта дисбаланса\n",
    "\n",
    "2. Исследуем баланс классов в обучающей выборке\n",
    "- Обучим базовые модели без учета дисбаланса классов (например, логистическая регрессия, случайный лес, градиентный бустинг)\n",
    "- Оценим качество моделей с помощью метрик F1-меры и AUC-ROC\n",
    "- Улучшение качества модели, учитывая дисбаланс классов\n",
    "\n",
    "3. Применим техники борьбы с дисбалансом классов, такие как взвешивание классов, аугментация данных или андерсэмплинг/оверсэмплинг\n",
    "- Обучим различные модели с учетом дисбаланса классов\n",
    "- Оценим качество моделей с помощью метрик F1-меры и AUC-ROC\n",
    "- Выберем лучшую модель и оптимизируем гиперпараметры при необходимости\n",
    "\n",
    "4. Финальное тестирование\n",
    "- Проведем финальное тестирование выбранной модели на тестовой выборке\n",
    "- Оценим качество модели с помощью метрик F1-меры и AUC-ROC\n",
    "- Сделаем выводы о результатах и выполнении целей проекта"
   ]
  },
  {
   "cell_type": "markdown",
   "id": "f0f240cd",
   "metadata": {},
   "source": [
    "## Подготовка данных"
   ]
  },
  {
   "cell_type": "markdown",
   "id": "c7ef8631",
   "metadata": {},
   "source": [
    "### Изучение данных"
   ]
  },
  {
   "cell_type": "code",
   "execution_count": 1,
   "id": "7e174529",
   "metadata": {},
   "outputs": [],
   "source": [
    "import pandas as pd\n",
    "import matplotlib.pyplot as plt\n",
    "import numpy as np\n",
    "import re\n",
    "from sklearn.preprocessing import StandardScaler, OneHotEncoder\n",
    "from sklearn.utils import shuffle\n",
    "from sklearn.model_selection import train_test_split, GridSearchCV\n",
    "from sklearn.metrics import accuracy_score, f1_score, roc_auc_score, make_scorer\n",
    "from sklearn.linear_model import LogisticRegression\n",
    "from sklearn.ensemble import RandomForestClassifier\n",
    "# import warnings\n",
    "# warnings.filterwarnings(\"ignore\")"
   ]
  },
  {
   "cell_type": "code",
   "execution_count": 2,
   "id": "ee6a2767",
   "metadata": {},
   "outputs": [],
   "source": [
    "try:\n",
    "    data = pd.read_csv('/datasets/Churn.csv')\n",
    "except:\n",
    "    data = pd.read_csv('https://code.s3.yandex.net/datasets/Churn.csv')"
   ]
  },
  {
   "cell_type": "code",
   "execution_count": 3,
   "id": "cf2e7bf5",
   "metadata": {},
   "outputs": [
    {
     "data": {
      "text/html": [
       "<div>\n",
       "<style scoped>\n",
       "    .dataframe tbody tr th:only-of-type {\n",
       "        vertical-align: middle;\n",
       "    }\n",
       "\n",
       "    .dataframe tbody tr th {\n",
       "        vertical-align: top;\n",
       "    }\n",
       "\n",
       "    .dataframe thead th {\n",
       "        text-align: right;\n",
       "    }\n",
       "</style>\n",
       "<table border=\"1\" class=\"dataframe\">\n",
       "  <thead>\n",
       "    <tr style=\"text-align: right;\">\n",
       "      <th></th>\n",
       "      <th>RowNumber</th>\n",
       "      <th>CustomerId</th>\n",
       "      <th>Surname</th>\n",
       "      <th>CreditScore</th>\n",
       "      <th>Geography</th>\n",
       "      <th>Gender</th>\n",
       "      <th>Age</th>\n",
       "      <th>Tenure</th>\n",
       "      <th>Balance</th>\n",
       "      <th>NumOfProducts</th>\n",
       "      <th>HasCrCard</th>\n",
       "      <th>IsActiveMember</th>\n",
       "      <th>EstimatedSalary</th>\n",
       "      <th>Exited</th>\n",
       "    </tr>\n",
       "  </thead>\n",
       "  <tbody>\n",
       "    <tr>\n",
       "      <th>0</th>\n",
       "      <td>1</td>\n",
       "      <td>15634602</td>\n",
       "      <td>Hargrave</td>\n",
       "      <td>619</td>\n",
       "      <td>France</td>\n",
       "      <td>Female</td>\n",
       "      <td>42</td>\n",
       "      <td>2.0</td>\n",
       "      <td>0.00</td>\n",
       "      <td>1</td>\n",
       "      <td>1</td>\n",
       "      <td>1</td>\n",
       "      <td>101348.88</td>\n",
       "      <td>1</td>\n",
       "    </tr>\n",
       "    <tr>\n",
       "      <th>1</th>\n",
       "      <td>2</td>\n",
       "      <td>15647311</td>\n",
       "      <td>Hill</td>\n",
       "      <td>608</td>\n",
       "      <td>Spain</td>\n",
       "      <td>Female</td>\n",
       "      <td>41</td>\n",
       "      <td>1.0</td>\n",
       "      <td>83807.86</td>\n",
       "      <td>1</td>\n",
       "      <td>0</td>\n",
       "      <td>1</td>\n",
       "      <td>112542.58</td>\n",
       "      <td>0</td>\n",
       "    </tr>\n",
       "    <tr>\n",
       "      <th>2</th>\n",
       "      <td>3</td>\n",
       "      <td>15619304</td>\n",
       "      <td>Onio</td>\n",
       "      <td>502</td>\n",
       "      <td>France</td>\n",
       "      <td>Female</td>\n",
       "      <td>42</td>\n",
       "      <td>8.0</td>\n",
       "      <td>159660.80</td>\n",
       "      <td>3</td>\n",
       "      <td>1</td>\n",
       "      <td>0</td>\n",
       "      <td>113931.57</td>\n",
       "      <td>1</td>\n",
       "    </tr>\n",
       "    <tr>\n",
       "      <th>3</th>\n",
       "      <td>4</td>\n",
       "      <td>15701354</td>\n",
       "      <td>Boni</td>\n",
       "      <td>699</td>\n",
       "      <td>France</td>\n",
       "      <td>Female</td>\n",
       "      <td>39</td>\n",
       "      <td>1.0</td>\n",
       "      <td>0.00</td>\n",
       "      <td>2</td>\n",
       "      <td>0</td>\n",
       "      <td>0</td>\n",
       "      <td>93826.63</td>\n",
       "      <td>0</td>\n",
       "    </tr>\n",
       "    <tr>\n",
       "      <th>4</th>\n",
       "      <td>5</td>\n",
       "      <td>15737888</td>\n",
       "      <td>Mitchell</td>\n",
       "      <td>850</td>\n",
       "      <td>Spain</td>\n",
       "      <td>Female</td>\n",
       "      <td>43</td>\n",
       "      <td>2.0</td>\n",
       "      <td>125510.82</td>\n",
       "      <td>1</td>\n",
       "      <td>1</td>\n",
       "      <td>1</td>\n",
       "      <td>79084.10</td>\n",
       "      <td>0</td>\n",
       "    </tr>\n",
       "  </tbody>\n",
       "</table>\n",
       "</div>"
      ],
      "text/plain": [
       "   RowNumber  CustomerId   Surname  CreditScore Geography  Gender  Age  \\\n",
       "0          1    15634602  Hargrave          619    France  Female   42   \n",
       "1          2    15647311      Hill          608     Spain  Female   41   \n",
       "2          3    15619304      Onio          502    France  Female   42   \n",
       "3          4    15701354      Boni          699    France  Female   39   \n",
       "4          5    15737888  Mitchell          850     Spain  Female   43   \n",
       "\n",
       "   Tenure    Balance  NumOfProducts  HasCrCard  IsActiveMember  \\\n",
       "0     2.0       0.00              1          1               1   \n",
       "1     1.0   83807.86              1          0               1   \n",
       "2     8.0  159660.80              3          1               0   \n",
       "3     1.0       0.00              2          0               0   \n",
       "4     2.0  125510.82              1          1               1   \n",
       "\n",
       "   EstimatedSalary  Exited  \n",
       "0        101348.88       1  \n",
       "1        112542.58       0  \n",
       "2        113931.57       1  \n",
       "3         93826.63       0  \n",
       "4         79084.10       0  "
      ]
     },
     "execution_count": 3,
     "metadata": {},
     "output_type": "execute_result"
    }
   ],
   "source": [
    "data.head()"
   ]
  },
  {
   "cell_type": "code",
   "execution_count": 4,
   "id": "de966843",
   "metadata": {},
   "outputs": [
    {
     "name": "stdout",
     "output_type": "stream",
     "text": [
      "<class 'pandas.core.frame.DataFrame'>\n",
      "RangeIndex: 10000 entries, 0 to 9999\n",
      "Data columns (total 14 columns):\n",
      " #   Column           Non-Null Count  Dtype  \n",
      "---  ------           --------------  -----  \n",
      " 0   RowNumber        10000 non-null  int64  \n",
      " 1   CustomerId       10000 non-null  int64  \n",
      " 2   Surname          10000 non-null  object \n",
      " 3   CreditScore      10000 non-null  int64  \n",
      " 4   Geography        10000 non-null  object \n",
      " 5   Gender           10000 non-null  object \n",
      " 6   Age              10000 non-null  int64  \n",
      " 7   Tenure           9091 non-null   float64\n",
      " 8   Balance          10000 non-null  float64\n",
      " 9   NumOfProducts    10000 non-null  int64  \n",
      " 10  HasCrCard        10000 non-null  int64  \n",
      " 11  IsActiveMember   10000 non-null  int64  \n",
      " 12  EstimatedSalary  10000 non-null  float64\n",
      " 13  Exited           10000 non-null  int64  \n",
      "dtypes: float64(3), int64(8), object(3)\n",
      "memory usage: 1.1+ MB\n"
     ]
    }
   ],
   "source": [
    "data.info()"
   ]
  },
  {
   "cell_type": "code",
   "execution_count": 5,
   "id": "f34989c4",
   "metadata": {},
   "outputs": [
    {
     "data": {
      "text/plain": [
       "RowNumber            0\n",
       "CustomerId           0\n",
       "Surname              0\n",
       "CreditScore          0\n",
       "Geography            0\n",
       "Gender               0\n",
       "Age                  0\n",
       "Tenure             909\n",
       "Balance              0\n",
       "NumOfProducts        0\n",
       "HasCrCard            0\n",
       "IsActiveMember       0\n",
       "EstimatedSalary      0\n",
       "Exited               0\n",
       "dtype: int64"
      ]
     },
     "execution_count": 5,
     "metadata": {},
     "output_type": "execute_result"
    }
   ],
   "source": [
    "data.isna().sum()"
   ]
  },
  {
   "cell_type": "code",
   "execution_count": 6,
   "id": "8a241014",
   "metadata": {},
   "outputs": [
    {
     "data": {
      "text/html": [
       "<div>\n",
       "<style scoped>\n",
       "    .dataframe tbody tr th:only-of-type {\n",
       "        vertical-align: middle;\n",
       "    }\n",
       "\n",
       "    .dataframe tbody tr th {\n",
       "        vertical-align: top;\n",
       "    }\n",
       "\n",
       "    .dataframe thead th {\n",
       "        text-align: right;\n",
       "    }\n",
       "</style>\n",
       "<table border=\"1\" class=\"dataframe\">\n",
       "  <thead>\n",
       "    <tr style=\"text-align: right;\">\n",
       "      <th></th>\n",
       "      <th>RowNumber</th>\n",
       "      <th>CustomerId</th>\n",
       "      <th>CreditScore</th>\n",
       "      <th>Age</th>\n",
       "      <th>Tenure</th>\n",
       "      <th>Balance</th>\n",
       "      <th>NumOfProducts</th>\n",
       "      <th>HasCrCard</th>\n",
       "      <th>IsActiveMember</th>\n",
       "      <th>EstimatedSalary</th>\n",
       "      <th>Exited</th>\n",
       "    </tr>\n",
       "  </thead>\n",
       "  <tbody>\n",
       "    <tr>\n",
       "      <th>RowNumber</th>\n",
       "      <td>1.000000</td>\n",
       "      <td>0.004202</td>\n",
       "      <td>0.005840</td>\n",
       "      <td>0.000783</td>\n",
       "      <td>-0.007322</td>\n",
       "      <td>-0.009067</td>\n",
       "      <td>0.007246</td>\n",
       "      <td>0.000599</td>\n",
       "      <td>0.012044</td>\n",
       "      <td>-0.005988</td>\n",
       "      <td>-0.016571</td>\n",
       "    </tr>\n",
       "    <tr>\n",
       "      <th>CustomerId</th>\n",
       "      <td>0.004202</td>\n",
       "      <td>1.000000</td>\n",
       "      <td>0.005308</td>\n",
       "      <td>0.009497</td>\n",
       "      <td>-0.021418</td>\n",
       "      <td>-0.012419</td>\n",
       "      <td>0.016972</td>\n",
       "      <td>-0.014025</td>\n",
       "      <td>0.001665</td>\n",
       "      <td>0.015271</td>\n",
       "      <td>-0.006248</td>\n",
       "    </tr>\n",
       "    <tr>\n",
       "      <th>CreditScore</th>\n",
       "      <td>0.005840</td>\n",
       "      <td>0.005308</td>\n",
       "      <td>1.000000</td>\n",
       "      <td>-0.003965</td>\n",
       "      <td>-0.000062</td>\n",
       "      <td>0.006268</td>\n",
       "      <td>0.012238</td>\n",
       "      <td>-0.005458</td>\n",
       "      <td>0.025651</td>\n",
       "      <td>-0.001384</td>\n",
       "      <td>-0.027094</td>\n",
       "    </tr>\n",
       "    <tr>\n",
       "      <th>Age</th>\n",
       "      <td>0.000783</td>\n",
       "      <td>0.009497</td>\n",
       "      <td>-0.003965</td>\n",
       "      <td>1.000000</td>\n",
       "      <td>-0.013134</td>\n",
       "      <td>0.028308</td>\n",
       "      <td>-0.030680</td>\n",
       "      <td>-0.011721</td>\n",
       "      <td>0.085472</td>\n",
       "      <td>-0.007201</td>\n",
       "      <td>0.285323</td>\n",
       "    </tr>\n",
       "    <tr>\n",
       "      <th>Tenure</th>\n",
       "      <td>-0.007322</td>\n",
       "      <td>-0.021418</td>\n",
       "      <td>-0.000062</td>\n",
       "      <td>-0.013134</td>\n",
       "      <td>1.000000</td>\n",
       "      <td>-0.007911</td>\n",
       "      <td>0.011979</td>\n",
       "      <td>0.027232</td>\n",
       "      <td>-0.032178</td>\n",
       "      <td>0.010520</td>\n",
       "      <td>-0.016761</td>\n",
       "    </tr>\n",
       "    <tr>\n",
       "      <th>Balance</th>\n",
       "      <td>-0.009067</td>\n",
       "      <td>-0.012419</td>\n",
       "      <td>0.006268</td>\n",
       "      <td>0.028308</td>\n",
       "      <td>-0.007911</td>\n",
       "      <td>1.000000</td>\n",
       "      <td>-0.304180</td>\n",
       "      <td>-0.014858</td>\n",
       "      <td>-0.010084</td>\n",
       "      <td>0.012797</td>\n",
       "      <td>0.118533</td>\n",
       "    </tr>\n",
       "    <tr>\n",
       "      <th>NumOfProducts</th>\n",
       "      <td>0.007246</td>\n",
       "      <td>0.016972</td>\n",
       "      <td>0.012238</td>\n",
       "      <td>-0.030680</td>\n",
       "      <td>0.011979</td>\n",
       "      <td>-0.304180</td>\n",
       "      <td>1.000000</td>\n",
       "      <td>0.003183</td>\n",
       "      <td>0.009612</td>\n",
       "      <td>0.014204</td>\n",
       "      <td>-0.047820</td>\n",
       "    </tr>\n",
       "    <tr>\n",
       "      <th>HasCrCard</th>\n",
       "      <td>0.000599</td>\n",
       "      <td>-0.014025</td>\n",
       "      <td>-0.005458</td>\n",
       "      <td>-0.011721</td>\n",
       "      <td>0.027232</td>\n",
       "      <td>-0.014858</td>\n",
       "      <td>0.003183</td>\n",
       "      <td>1.000000</td>\n",
       "      <td>-0.011866</td>\n",
       "      <td>-0.009933</td>\n",
       "      <td>-0.007138</td>\n",
       "    </tr>\n",
       "    <tr>\n",
       "      <th>IsActiveMember</th>\n",
       "      <td>0.012044</td>\n",
       "      <td>0.001665</td>\n",
       "      <td>0.025651</td>\n",
       "      <td>0.085472</td>\n",
       "      <td>-0.032178</td>\n",
       "      <td>-0.010084</td>\n",
       "      <td>0.009612</td>\n",
       "      <td>-0.011866</td>\n",
       "      <td>1.000000</td>\n",
       "      <td>-0.011421</td>\n",
       "      <td>-0.156128</td>\n",
       "    </tr>\n",
       "    <tr>\n",
       "      <th>EstimatedSalary</th>\n",
       "      <td>-0.005988</td>\n",
       "      <td>0.015271</td>\n",
       "      <td>-0.001384</td>\n",
       "      <td>-0.007201</td>\n",
       "      <td>0.010520</td>\n",
       "      <td>0.012797</td>\n",
       "      <td>0.014204</td>\n",
       "      <td>-0.009933</td>\n",
       "      <td>-0.011421</td>\n",
       "      <td>1.000000</td>\n",
       "      <td>0.012097</td>\n",
       "    </tr>\n",
       "    <tr>\n",
       "      <th>Exited</th>\n",
       "      <td>-0.016571</td>\n",
       "      <td>-0.006248</td>\n",
       "      <td>-0.027094</td>\n",
       "      <td>0.285323</td>\n",
       "      <td>-0.016761</td>\n",
       "      <td>0.118533</td>\n",
       "      <td>-0.047820</td>\n",
       "      <td>-0.007138</td>\n",
       "      <td>-0.156128</td>\n",
       "      <td>0.012097</td>\n",
       "      <td>1.000000</td>\n",
       "    </tr>\n",
       "  </tbody>\n",
       "</table>\n",
       "</div>"
      ],
      "text/plain": [
       "                 RowNumber  CustomerId  CreditScore       Age    Tenure  \\\n",
       "RowNumber         1.000000    0.004202     0.005840  0.000783 -0.007322   \n",
       "CustomerId        0.004202    1.000000     0.005308  0.009497 -0.021418   \n",
       "CreditScore       0.005840    0.005308     1.000000 -0.003965 -0.000062   \n",
       "Age               0.000783    0.009497    -0.003965  1.000000 -0.013134   \n",
       "Tenure           -0.007322   -0.021418    -0.000062 -0.013134  1.000000   \n",
       "Balance          -0.009067   -0.012419     0.006268  0.028308 -0.007911   \n",
       "NumOfProducts     0.007246    0.016972     0.012238 -0.030680  0.011979   \n",
       "HasCrCard         0.000599   -0.014025    -0.005458 -0.011721  0.027232   \n",
       "IsActiveMember    0.012044    0.001665     0.025651  0.085472 -0.032178   \n",
       "EstimatedSalary  -0.005988    0.015271    -0.001384 -0.007201  0.010520   \n",
       "Exited           -0.016571   -0.006248    -0.027094  0.285323 -0.016761   \n",
       "\n",
       "                  Balance  NumOfProducts  HasCrCard  IsActiveMember  \\\n",
       "RowNumber       -0.009067       0.007246   0.000599        0.012044   \n",
       "CustomerId      -0.012419       0.016972  -0.014025        0.001665   \n",
       "CreditScore      0.006268       0.012238  -0.005458        0.025651   \n",
       "Age              0.028308      -0.030680  -0.011721        0.085472   \n",
       "Tenure          -0.007911       0.011979   0.027232       -0.032178   \n",
       "Balance          1.000000      -0.304180  -0.014858       -0.010084   \n",
       "NumOfProducts   -0.304180       1.000000   0.003183        0.009612   \n",
       "HasCrCard       -0.014858       0.003183   1.000000       -0.011866   \n",
       "IsActiveMember  -0.010084       0.009612  -0.011866        1.000000   \n",
       "EstimatedSalary  0.012797       0.014204  -0.009933       -0.011421   \n",
       "Exited           0.118533      -0.047820  -0.007138       -0.156128   \n",
       "\n",
       "                 EstimatedSalary    Exited  \n",
       "RowNumber              -0.005988 -0.016571  \n",
       "CustomerId              0.015271 -0.006248  \n",
       "CreditScore            -0.001384 -0.027094  \n",
       "Age                    -0.007201  0.285323  \n",
       "Tenure                  0.010520 -0.016761  \n",
       "Balance                 0.012797  0.118533  \n",
       "NumOfProducts           0.014204 -0.047820  \n",
       "HasCrCard              -0.009933 -0.007138  \n",
       "IsActiveMember         -0.011421 -0.156128  \n",
       "EstimatedSalary         1.000000  0.012097  \n",
       "Exited                  0.012097  1.000000  "
      ]
     },
     "execution_count": 6,
     "metadata": {},
     "output_type": "execute_result"
    }
   ],
   "source": [
    "data.corr(numeric_only=True)"
   ]
  },
  {
   "cell_type": "markdown",
   "id": "129d760e",
   "metadata": {},
   "source": [
    "### Приводим названия столбцов к нижнему регистру"
   ]
  },
  {
   "cell_type": "code",
   "execution_count": 7,
   "id": "c19f7634",
   "metadata": {},
   "outputs": [
    {
     "data": {
      "text/html": [
       "<div>\n",
       "<style scoped>\n",
       "    .dataframe tbody tr th:only-of-type {\n",
       "        vertical-align: middle;\n",
       "    }\n",
       "\n",
       "    .dataframe tbody tr th {\n",
       "        vertical-align: top;\n",
       "    }\n",
       "\n",
       "    .dataframe thead th {\n",
       "        text-align: right;\n",
       "    }\n",
       "</style>\n",
       "<table border=\"1\" class=\"dataframe\">\n",
       "  <thead>\n",
       "    <tr style=\"text-align: right;\">\n",
       "      <th></th>\n",
       "      <th>row_number</th>\n",
       "      <th>customer_id</th>\n",
       "      <th>surname</th>\n",
       "      <th>credit_score</th>\n",
       "      <th>geography</th>\n",
       "      <th>gender</th>\n",
       "      <th>age</th>\n",
       "      <th>tenure</th>\n",
       "      <th>balance</th>\n",
       "      <th>num_of_products</th>\n",
       "      <th>has_cr_card</th>\n",
       "      <th>is_active_member</th>\n",
       "      <th>estimated_salary</th>\n",
       "      <th>exited</th>\n",
       "    </tr>\n",
       "  </thead>\n",
       "  <tbody>\n",
       "    <tr>\n",
       "      <th>0</th>\n",
       "      <td>1</td>\n",
       "      <td>15634602</td>\n",
       "      <td>Hargrave</td>\n",
       "      <td>619</td>\n",
       "      <td>France</td>\n",
       "      <td>Female</td>\n",
       "      <td>42</td>\n",
       "      <td>2.0</td>\n",
       "      <td>0.00</td>\n",
       "      <td>1</td>\n",
       "      <td>1</td>\n",
       "      <td>1</td>\n",
       "      <td>101348.88</td>\n",
       "      <td>1</td>\n",
       "    </tr>\n",
       "    <tr>\n",
       "      <th>1</th>\n",
       "      <td>2</td>\n",
       "      <td>15647311</td>\n",
       "      <td>Hill</td>\n",
       "      <td>608</td>\n",
       "      <td>Spain</td>\n",
       "      <td>Female</td>\n",
       "      <td>41</td>\n",
       "      <td>1.0</td>\n",
       "      <td>83807.86</td>\n",
       "      <td>1</td>\n",
       "      <td>0</td>\n",
       "      <td>1</td>\n",
       "      <td>112542.58</td>\n",
       "      <td>0</td>\n",
       "    </tr>\n",
       "    <tr>\n",
       "      <th>2</th>\n",
       "      <td>3</td>\n",
       "      <td>15619304</td>\n",
       "      <td>Onio</td>\n",
       "      <td>502</td>\n",
       "      <td>France</td>\n",
       "      <td>Female</td>\n",
       "      <td>42</td>\n",
       "      <td>8.0</td>\n",
       "      <td>159660.80</td>\n",
       "      <td>3</td>\n",
       "      <td>1</td>\n",
       "      <td>0</td>\n",
       "      <td>113931.57</td>\n",
       "      <td>1</td>\n",
       "    </tr>\n",
       "    <tr>\n",
       "      <th>3</th>\n",
       "      <td>4</td>\n",
       "      <td>15701354</td>\n",
       "      <td>Boni</td>\n",
       "      <td>699</td>\n",
       "      <td>France</td>\n",
       "      <td>Female</td>\n",
       "      <td>39</td>\n",
       "      <td>1.0</td>\n",
       "      <td>0.00</td>\n",
       "      <td>2</td>\n",
       "      <td>0</td>\n",
       "      <td>0</td>\n",
       "      <td>93826.63</td>\n",
       "      <td>0</td>\n",
       "    </tr>\n",
       "    <tr>\n",
       "      <th>4</th>\n",
       "      <td>5</td>\n",
       "      <td>15737888</td>\n",
       "      <td>Mitchell</td>\n",
       "      <td>850</td>\n",
       "      <td>Spain</td>\n",
       "      <td>Female</td>\n",
       "      <td>43</td>\n",
       "      <td>2.0</td>\n",
       "      <td>125510.82</td>\n",
       "      <td>1</td>\n",
       "      <td>1</td>\n",
       "      <td>1</td>\n",
       "      <td>79084.10</td>\n",
       "      <td>0</td>\n",
       "    </tr>\n",
       "  </tbody>\n",
       "</table>\n",
       "</div>"
      ],
      "text/plain": [
       "   row_number  customer_id   surname  credit_score geography  gender  age  \\\n",
       "0           1     15634602  Hargrave           619    France  Female   42   \n",
       "1           2     15647311      Hill           608     Spain  Female   41   \n",
       "2           3     15619304      Onio           502    France  Female   42   \n",
       "3           4     15701354      Boni           699    France  Female   39   \n",
       "4           5     15737888  Mitchell           850     Spain  Female   43   \n",
       "\n",
       "   tenure    balance  num_of_products  has_cr_card  is_active_member  \\\n",
       "0     2.0       0.00                1            1                 1   \n",
       "1     1.0   83807.86                1            0                 1   \n",
       "2     8.0  159660.80                3            1                 0   \n",
       "3     1.0       0.00                2            0                 0   \n",
       "4     2.0  125510.82                1            1                 1   \n",
       "\n",
       "   estimated_salary  exited  \n",
       "0         101348.88       1  \n",
       "1         112542.58       0  \n",
       "2         113931.57       1  \n",
       "3          93826.63       0  \n",
       "4          79084.10       0  "
      ]
     },
     "execution_count": 7,
     "metadata": {},
     "output_type": "execute_result"
    }
   ],
   "source": [
    "def camel_to_snake(name):\n",
    "    name = re.sub('(.)([A-Z][a-z]+)', r'\\1_\\2', name)\n",
    "    return re.sub('([a-z0-9])([A-Z])', r'\\1_\\2', name).lower()\n",
    "\n",
    "new_columns = {col: camel_to_snake(col) for col in data.columns}\n",
    "data = data.rename(columns=new_columns)\n",
    "data.head()"
   ]
  },
  {
   "cell_type": "markdown",
   "id": "95799eb5",
   "metadata": {},
   "source": [
    "### Удаление пропусков"
   ]
  },
  {
   "cell_type": "code",
   "execution_count": 8,
   "id": "e9428eda",
   "metadata": {},
   "outputs": [
    {
     "data": {
      "text/plain": [
       "row_number            0\n",
       "customer_id           0\n",
       "surname               0\n",
       "credit_score          0\n",
       "geography             0\n",
       "gender                0\n",
       "age                   0\n",
       "tenure              909\n",
       "balance               0\n",
       "num_of_products       0\n",
       "has_cr_card           0\n",
       "is_active_member      0\n",
       "estimated_salary      0\n",
       "exited                0\n",
       "dtype: int64"
      ]
     },
     "execution_count": 8,
     "metadata": {},
     "output_type": "execute_result"
    }
   ],
   "source": [
    "data.isnull().sum()"
   ]
  },
  {
   "cell_type": "code",
   "execution_count": 9,
   "id": "3c9ebb6b",
   "metadata": {
    "scrolled": false
   },
   "outputs": [
    {
     "name": "stdout",
     "output_type": "stream",
     "text": [
      "<class 'pandas.core.frame.DataFrame'>\n",
      "Int64Index: 9091 entries, 0 to 9998\n",
      "Data columns (total 14 columns):\n",
      " #   Column            Non-Null Count  Dtype  \n",
      "---  ------            --------------  -----  \n",
      " 0   row_number        9091 non-null   int64  \n",
      " 1   customer_id       9091 non-null   int64  \n",
      " 2   surname           9091 non-null   object \n",
      " 3   credit_score      9091 non-null   int64  \n",
      " 4   geography         9091 non-null   object \n",
      " 5   gender            9091 non-null   object \n",
      " 6   age               9091 non-null   int64  \n",
      " 7   tenure            9091 non-null   float64\n",
      " 8   balance           9091 non-null   float64\n",
      " 9   num_of_products   9091 non-null   int64  \n",
      " 10  has_cr_card       9091 non-null   int64  \n",
      " 11  is_active_member  9091 non-null   int64  \n",
      " 12  estimated_salary  9091 non-null   float64\n",
      " 13  exited            9091 non-null   int64  \n",
      "dtypes: float64(3), int64(8), object(3)\n",
      "memory usage: 1.0+ MB\n"
     ]
    }
   ],
   "source": [
    "data = data.dropna()\n",
    "data.info()"
   ]
  },
  {
   "cell_type": "markdown",
   "id": "707158d5",
   "metadata": {},
   "source": [
    "Мы не можем восстановить пропущенные данные в колонке Tenure, и для будущего обучения моделей лучше не заполнять эти пропуски медианой, поэтому удалим пропуски."
   ]
  },
  {
   "cell_type": "markdown",
   "id": "a3ddba34",
   "metadata": {},
   "source": [
    "### Проверка на дубликаты"
   ]
  },
  {
   "cell_type": "code",
   "execution_count": 10,
   "id": "726fb335",
   "metadata": {},
   "outputs": [
    {
     "data": {
      "text/plain": [
       "0"
      ]
     },
     "execution_count": 10,
     "metadata": {},
     "output_type": "execute_result"
    }
   ],
   "source": [
    "data.duplicated().sum()"
   ]
  },
  {
   "cell_type": "markdown",
   "id": "e9408aa7",
   "metadata": {},
   "source": [
    "### Удаление лишних столбцов"
   ]
  },
  {
   "cell_type": "code",
   "execution_count": 11,
   "id": "6519e44e",
   "metadata": {},
   "outputs": [
    {
     "data": {
      "text/plain": [
       "credit_score        0\n",
       "geography           0\n",
       "gender              0\n",
       "age                 0\n",
       "tenure              0\n",
       "balance             0\n",
       "num_of_products     0\n",
       "has_cr_card         0\n",
       "is_active_member    0\n",
       "estimated_salary    0\n",
       "exited              0\n",
       "dtype: int64"
      ]
     },
     "execution_count": 11,
     "metadata": {},
     "output_type": "execute_result"
    }
   ],
   "source": [
    "data.drop([\"row_number\", \"customer_id\", \"surname\"], axis=1, inplace=True)\n",
    "data.isnull().sum()"
   ]
  },
  {
   "cell_type": "markdown",
   "id": "3d651353",
   "metadata": {},
   "source": [
    "Столбцы \"row_number\", \"customer_id\" и \"surname\" являются идентификаторами и не несут никакой полезной информации для моделирования оттока клиентов из банка.\n",
    "\n",
    "Столбец \"row_number\" содержит просто порядковый номер строки в наборе данных, а столбец \"customer_id\" является уникальным идентификатором клиента. Оба этих столбца не содержат никакой информации о клиенте, которая могла бы помочь в прогнозировании его оттока из банка.\n",
    "\n",
    "Столбец \"surname\" содержит информацию о фамилии клиента. Хотя фамилия может быть полезна для идентификации клиентов в реальной жизни, в контексте прогнозирования оттока клиентов из банка эта информация не является существенной и может быть удалена без потери полезной информации для модели."
   ]
  },
  {
   "cell_type": "markdown",
   "id": "eae97ed2",
   "metadata": {},
   "source": [
    "### Преобразование категориальных признаков в численные (OHE)"
   ]
  },
  {
   "cell_type": "code",
   "execution_count": 12,
   "id": "ff0e53da",
   "metadata": {},
   "outputs": [],
   "source": [
    "encoder = OneHotEncoder(sparse_output=False, drop='first')\n",
    "categorical_columns = ['geography', 'gender']\n",
    "\n",
    "# Применение OneHotEncoder к категориальным колонкам\n",
    "encoded_data = encoder.fit_transform(data[categorical_columns])\n",
    "encoded_feature_names = encoder.get_feature_names_out(categorical_columns)\n",
    "\n",
    "# Создание нового DataFrame с преобразованными колонками\n",
    "encoded_df = pd.DataFrame(encoded_data, columns=encoded_feature_names)\n",
    "\n",
    "# Удаление исходных категориальных колонок\n",
    "data = data.drop(columns=categorical_columns)\n",
    "\n",
    "# Сброс индексов исходного DataFrame\n",
    "data.reset_index(drop=True, inplace=True)\n",
    "\n",
    "# Объединение исходного DataFrame с encoded_df\n",
    "data = pd.concat([data, encoded_df], axis=1)"
   ]
  },
  {
   "cell_type": "markdown",
   "id": "8dcbbe9c",
   "metadata": {},
   "source": [
    "### Выделение целевого признака"
   ]
  },
  {
   "cell_type": "code",
   "execution_count": 13,
   "id": "d2356c19",
   "metadata": {},
   "outputs": [
    {
     "name": "stdout",
     "output_type": "stream",
     "text": [
      "(5454, 11)\n",
      "(1818, 11)\n",
      "(1819, 11)\n"
     ]
    }
   ],
   "source": [
    "# Разделение данных на обучающую, валидационную и тестовую выборки (60:20:20)\n",
    "train_data, temp_data = train_test_split(data, test_size=0.4, random_state=12345)\n",
    "valid_data, test_data = train_test_split(temp_data, test_size=0.5, random_state=12345)\n",
    "\n",
    "X_train = train_data.drop(\"exited\", axis=1)\n",
    "y_train = train_data[\"exited\"]\n",
    "\n",
    "X_valid = valid_data.drop(\"exited\", axis=1)\n",
    "y_valid = valid_data[\"exited\"]\n",
    "\n",
    "X_test = test_data.drop(\"exited\", axis=1)\n",
    "y_test = test_data[\"exited\"]\n",
    "print(X_train.shape)\n",
    "print(X_valid.shape)\n",
    "print(X_test.shape)"
   ]
  },
  {
   "cell_type": "markdown",
   "id": "25e0a2f8",
   "metadata": {},
   "source": [
    "### Масштабирование численных признаков"
   ]
  },
  {
   "cell_type": "code",
   "execution_count": 14,
   "id": "48b8af62",
   "metadata": {},
   "outputs": [],
   "source": [
    "numeric_columns = [\"credit_score\", \"age\", \"tenure\", \"balance\", \"num_of_products\", \"estimated_salary\"]\n",
    "\n",
    "scaler = StandardScaler()\n",
    "scaler.fit(X_train[numeric_columns])\n",
    "X_train[numeric_columns] = scaler.transform(X_train[numeric_columns])\n",
    "X_valid[numeric_columns] = scaler.transform(X_valid[numeric_columns])\n",
    "X_test[numeric_columns] = scaler.transform(X_test[numeric_columns])"
   ]
  },
  {
   "cell_type": "markdown",
   "id": "43acc520",
   "metadata": {},
   "source": [
    "## Исследование задачи"
   ]
  },
  {
   "cell_type": "markdown",
   "id": "7cf39a66",
   "metadata": {},
   "source": [
    "### Исследование баланса классов"
   ]
  },
  {
   "cell_type": "code",
   "execution_count": 15,
   "id": "78493544",
   "metadata": {},
   "outputs": [
    {
     "name": "stdout",
     "output_type": "stream",
     "text": [
      "Баланс классов:\n",
      " 0    0.796062\n",
      "1    0.203938\n",
      "Name: exited, dtype: float64\n"
     ]
    }
   ],
   "source": [
    "class_count = data[\"exited\"].value_counts(normalize=True)\n",
    "print(\"Баланс классов:\\n\", class_count)"
   ]
  },
  {
   "cell_type": "markdown",
   "id": "0b9701b9",
   "metadata": {},
   "source": [
    "### Обучение базовых моделей без учета дисбаланса классов"
   ]
  },
  {
   "cell_type": "code",
   "execution_count": 16,
   "id": "ed04213b",
   "metadata": {},
   "outputs": [],
   "source": [
    "# Логистическая регрессия\n",
    "logreg = LogisticRegression(random_state=12345)\n",
    "logreg.fit(X_train, y_train)\n",
    "logreg_valid_pred = logreg.predict(X_valid)\n",
    "\n",
    "logreg_f1 = f1_score(y_valid, logreg_valid_pred)\n",
    "logreg_proba = logreg.predict_proba(X_valid)\n",
    "logreg_proba = logreg_proba[:, 1]\n",
    "\n",
    "logreg_roc_auc = roc_auc_score(y_valid, logreg_proba)"
   ]
  },
  {
   "cell_type": "code",
   "execution_count": 17,
   "id": "8af02551",
   "metadata": {},
   "outputs": [],
   "source": [
    "# Случайный лес\n",
    "rfc = RandomForestClassifier(random_state=12345)\n",
    "rfc.fit(X_train, y_train)\n",
    "rfc_valid_pred = rfc.predict(X_valid)\n",
    "\n",
    "rfc_f1 = f1_score(y_valid, rfc_valid_pred)\n",
    "rfc_proba = rfc.predict_proba(X_valid)\n",
    "rfc_proba = rfc_proba[:, 1]\n",
    "\n",
    "rfc_roc_auc = roc_auc_score(y_valid, rfc_proba)"
   ]
  },
  {
   "cell_type": "code",
   "execution_count": 18,
   "id": "53f3fc78",
   "metadata": {},
   "outputs": [
    {
     "name": "stdout",
     "output_type": "stream",
     "text": [
      "\n",
      "Метрики базовых моделей без учета дисбаланса классов:\n",
      "Логистическая регрессия: F1 = 0.304, AUC-ROC = 0.774\n",
      "Случайный лес: F1 = 0.590, AUC-ROC = 0.863\n"
     ]
    }
   ],
   "source": [
    "# Вывод результатов\n",
    "print(\"\\nМетрики базовых моделей без учета дисбаланса классов:\")\n",
    "print(\"Логистическая регрессия: F1 = {:.3f}, AUC-ROC = {:.3f}\".format(logreg_f1, logreg_roc_auc))\n",
    "print(\"Случайный лес: F1 = {:.3f}, AUC-ROC = {:.3f}\".format(rfc_f1, rfc_roc_auc))"
   ]
  },
  {
   "cell_type": "markdown",
   "id": "974fb854",
   "metadata": {},
   "source": [
    "### Вывод"
   ]
  },
  {
   "cell_type": "markdown",
   "id": "22d18a69",
   "metadata": {},
   "source": [
    "- Мы исследовали баланс классов и обучили базовые модели без учета дисбаланса классов.  \n",
    "- Результаты показали, что существует дисбаланс классов, который может снижать качество моделей. Он составляет 80/20. \n",
    "- Мы выяснили, что при использовании базовых моделей без учета дисбаланса классов, метрики F1 и AUC-ROC оказались недостаточными для достижения целевого значения F1-меры.\n",
    "\n",
    "Обучение базовых моделей без учета дисбаланса классов позволило нам сравнить их производительность и выбрать случайный лес в качестве отправной точки для дальнейшей оптимизации модели с учетом дисбаланса классов."
   ]
  },
  {
   "cell_type": "markdown",
   "id": "61fa3ecd",
   "metadata": {},
   "source": [
    "## Борьба с дисбалансом"
   ]
  },
  {
   "cell_type": "markdown",
   "id": "da8abf91",
   "metadata": {},
   "source": [
    "### Upsampling"
   ]
  },
  {
   "cell_type": "code",
   "execution_count": 19,
   "id": "426051ee",
   "metadata": {},
   "outputs": [],
   "source": [
    "def upsample(features, target, repeat):\n",
    "    features_zeros = features[target == 0]\n",
    "    features_ones = features[target == 1]\n",
    "    target_zeros = target[target == 0]\n",
    "    target_ones = target[target == 1]\n",
    "\n",
    "    features_upsampled = pd.concat([features_zeros] + [features_ones] * repeat)\n",
    "    target_upsampled = pd.concat([target_zeros] + [target_ones] * repeat)\n",
    "    \n",
    "    features_upsampled, target_upsampled = shuffle(\n",
    "        features_upsampled, target_upsampled, random_state=12345)\n",
    "    \n",
    "    return features_upsampled, target_upsampled\n",
    "\n",
    "X_upsampled_train, y_upsampled_train = upsample(X_train, y_train, repeat=4)"
   ]
  },
  {
   "cell_type": "code",
   "execution_count": 20,
   "id": "1951a133",
   "metadata": {},
   "outputs": [
    {
     "name": "stdout",
     "output_type": "stream",
     "text": [
      "Случайный лес: F1 = 0.609, AUC-ROC = 0.859\n"
     ]
    }
   ],
   "source": [
    "rfc_upsampling = RandomForestClassifier(random_state=12345, n_jobs=-1)\n",
    "rfc_upsampling.fit(X_upsampled_train, y_upsampled_train)\n",
    "rfc_upsampling_pred = rfc_upsampling.predict(X_valid)\n",
    "rfc_upsampling_f1 = f1_score(y_valid, rfc_upsampling_pred)\n",
    "rfc_upsampling_proba = rfc_upsampling.predict_proba(X_valid)\n",
    "rfc_upsampling_proba = rfc_upsampling_proba[:, 1]\n",
    "\n",
    "rfc_upsampling_roc_auc = roc_auc_score(y_valid, rfc_upsampling_proba)\n",
    "\n",
    "print(\"Случайный лес: F1 = {:.3f}, AUC-ROC = {:.3f}\".format(rfc_upsampling_f1, rfc_upsampling_roc_auc))"
   ]
  },
  {
   "cell_type": "markdown",
   "id": "486c66a9",
   "metadata": {},
   "source": [
    "### Downsampling"
   ]
  },
  {
   "cell_type": "code",
   "execution_count": 21,
   "id": "151eed60",
   "metadata": {},
   "outputs": [],
   "source": [
    "def downsample(features, target, fraction):\n",
    "    features_zeros = features[target == 0]\n",
    "    features_ones = features[target == 1]\n",
    "    target_zeros = target[target == 0]\n",
    "    target_ones = target[target == 1]\n",
    "\n",
    "    features_downsampled = pd.concat(\n",
    "        [features_zeros.sample(frac=fraction, random_state=12345)] + [features_ones])\n",
    "    target_downsampled = pd.concat(\n",
    "        [target_zeros.sample(frac=fraction, random_state=12345)] + [target_ones])\n",
    "    \n",
    "    features_downsampled, target_downsampled = shuffle(\n",
    "        features_downsampled, target_downsampled, random_state=12345)\n",
    "    \n",
    "    return features_downsampled, target_downsampled\n",
    "\n",
    "X_downsampled_train, y_downsampled_train = downsample(X_train, y_train, fraction=0.25)"
   ]
  },
  {
   "cell_type": "code",
   "execution_count": 22,
   "id": "d8fe5ca0",
   "metadata": {},
   "outputs": [
    {
     "name": "stdout",
     "output_type": "stream",
     "text": [
      "Случайный лес: F1 = 0.589, AUC-ROC = 0.864\n"
     ]
    }
   ],
   "source": [
    "rfc_downsampling = RandomForestClassifier(random_state=12345, n_jobs=-1)\n",
    "rfc_downsampling.fit(X_downsampled_train, y_downsampled_train)\n",
    "rfc_downsampling_pred = rfc_downsampling.predict(X_valid)\n",
    "rfc_downsampling_f1 = f1_score(y_valid, rfc_downsampling_pred)\n",
    "rfc_downsampling_proba = rfc_downsampling.predict_proba(X_valid)\n",
    "rfc_downsampling_proba = rfc_downsampling_proba[:, 1]\n",
    "\n",
    "rfc_downsampling_roc_auc = roc_auc_score(y_valid, rfc_downsampling_proba)\n",
    "\n",
    "print(\"Случайный лес: F1 = {:.3f}, AUC-ROC = {:.3f}\".format(rfc_downsampling_f1, rfc_downsampling_roc_auc))"
   ]
  },
  {
   "cell_type": "markdown",
   "id": "2547b6d6",
   "metadata": {},
   "source": [
    "### Взвешивание классов"
   ]
  },
  {
   "cell_type": "code",
   "execution_count": 23,
   "id": "96ee6288",
   "metadata": {},
   "outputs": [
    {
     "name": "stdout",
     "output_type": "stream",
     "text": [
      "Случайный лес: F1 = 0.557, AUC-ROC = 0.862\n"
     ]
    }
   ],
   "source": [
    "rfc_balanced = RandomForestClassifier(class_weight='balanced', random_state=12345)\n",
    "rfc_balanced.fit(X_train, y_train)\n",
    "rfc_balanced_valid_pred = rfc_balanced.predict(X_valid)\n",
    "\n",
    "rfc_balanced_f1 = f1_score(y_valid, rfc_balanced_valid_pred)\n",
    "rfc_balanced_proba = rfc_balanced.predict_proba(X_valid)\n",
    "rfc_balanced_proba = rfc_balanced_proba[:, 1]\n",
    "\n",
    "rfc_balanced_roc_auc = roc_auc_score(y_valid, rfc_balanced_proba)\n",
    "\n",
    "print(\"Случайный лес: F1 = {:.3f}, AUC-ROC = {:.3f}\".format(rfc_balanced_f1, rfc_balanced_roc_auc))"
   ]
  },
  {
   "cell_type": "markdown",
   "id": "b6767d94",
   "metadata": {},
   "source": [
    "### Оптимизация гиперпараметров случайного леса"
   ]
  },
  {
   "cell_type": "code",
   "execution_count": 24,
   "id": "da38ff79",
   "metadata": {},
   "outputs": [
    {
     "name": "stdout",
     "output_type": "stream",
     "text": [
      "Fitting 5 folds for each of 81 candidates, totalling 405 fits\n",
      "\n",
      "Лучшие гиперпараметры для случайного леса с взвешиванием классов:\n",
      "{'max_depth': 10, 'min_samples_leaf': 2, 'min_samples_split': 10, 'n_estimators': 100}\n"
     ]
    }
   ],
   "source": [
    "rfc_balanced_grid = {\n",
    "    'n_estimators': [10, 50, 100],\n",
    "    'max_depth': [5, 10, 15],\n",
    "    'min_samples_leaf': [1, 2, 4],\n",
    "    'min_samples_split': [2, 5, 10]\n",
    "}\n",
    "\n",
    "rfc_balanced_cv = GridSearchCV(\n",
    "    RandomForestClassifier(class_weight='balanced', random_state=12345),\n",
    "    param_grid=rfc_balanced_grid,\n",
    "    scoring=make_scorer(f1_score),\n",
    "    cv=5,\n",
    "    verbose=1,\n",
    "    n_jobs=-1\n",
    ")\n",
    "\n",
    "rfc_balanced_cv.fit(X_train, y_train)\n",
    "print(\"\\nЛучшие гиперпараметры для случайного леса с взвешиванием классов:\")\n",
    "print(rfc_balanced_cv.best_params_)"
   ]
  },
  {
   "cell_type": "markdown",
   "id": "f5ebaad4",
   "metadata": {},
   "source": [
    "### Случайный лес с оптимальными гиперпараметрами и взвешиванием классов"
   ]
  },
  {
   "cell_type": "code",
   "execution_count": 25,
   "id": "0c7eedd6",
   "metadata": {},
   "outputs": [
    {
     "name": "stdout",
     "output_type": "stream",
     "text": [
      "\n",
      "Метрики модели случайного леса с оптимальными гиперпараметрами и взвешиванием классов:\n",
      "F1 = 0.645, AUC-ROC = 0.873\n"
     ]
    }
   ],
   "source": [
    "rfc_balanced_best = RandomForestClassifier(\n",
    "    class_weight='balanced',\n",
    "    random_state=12345,\n",
    "    **rfc_balanced_cv.best_params_\n",
    ")\n",
    "\n",
    "rfc_balanced_best.fit(X_train, y_train)\n",
    "rfc_balanced_best_valid_pred = rfc_balanced_best.predict(X_valid)\n",
    "\n",
    "rfc_balanced_best_f1 = f1_score(y_valid, rfc_balanced_best_valid_pred)\n",
    "rfc_balanced_best_proba = rfc_balanced_best.predict_proba(X_valid)\n",
    "rfc_balanced_best_proba = rfc_balanced_best_proba[:, 1]\n",
    "\n",
    "rfc_balanced_best_roc_auc = roc_auc_score(y_valid, rfc_balanced_best_proba)\n",
    "\n",
    "# Вывод результатов\n",
    "print(\"\\nМетрики модели случайного леса с оптимальными гиперпараметрами и взвешиванием классов:\")\n",
    "print(\"F1 = {:.3f}, AUC-ROC = {:.3f}\".format(rfc_balanced_best_f1, rfc_balanced_best_roc_auc))"
   ]
  },
  {
   "cell_type": "markdown",
   "id": "c5a55c70",
   "metadata": {},
   "source": [
    "### Вывод"
   ]
  },
  {
   "cell_type": "markdown",
   "id": "ebc96477",
   "metadata": {},
   "source": [
    "Использование различных методов борьбы с дисбалансом классов позволило нам значительно улучшить производительность модели случайного леса. В частности, мы сравнили модель на трех методах борьбы с дисбалансом классов:\n",
    "- взвешивание классов\n",
    "- увеличение выборки(upsampling)\n",
    "- уменьшение выборки(downsampling).\n",
    "\n",
    "Мы выбрали оптимальные гиперпараметры на обучающей выборке с помощью поиска по сетке, затем мы оценили производительность моделей на валидационной выборке и выбрали модель с наилучшей метрикой F1.\n",
    "\n",
    "Наилучшей моделью оказалась модель случайного леса, обученная с использованием метода взвешивания классов, оптимальными гиперпараметрами, найденными с помощью поиска по сетке. Эта модель достигла метрики F1-меры на уровне 0.65, что превосходит более простые модели, обученные без учета дисбаланса классов, или без оптимизации гиперпараметров."
   ]
  },
  {
   "cell_type": "markdown",
   "id": "d85049db",
   "metadata": {},
   "source": [
    "## Тестирование модели"
   ]
  },
  {
   "cell_type": "code",
   "execution_count": 26,
   "id": "55d1b97f",
   "metadata": {},
   "outputs": [
    {
     "name": "stdout",
     "output_type": "stream",
     "text": [
      "\n",
      "Метрики лучшей модели (случайный лес) на тестовой выборке после дополнительного обучения на валидационной выборке:\n",
      "F1 = 0.611, AUC-ROC = 0.860\n"
     ]
    }
   ],
   "source": [
    "# Предсказания для тестовой выборки\n",
    "rfc_balanced_best_test_pred = rfc_balanced_best.predict(X_test)\n",
    "\n",
    "# Расчет метрик на тестовой выборке\n",
    "rfc_balanced_best_test_f1 = f1_score(y_test, rfc_balanced_best_test_pred)\n",
    "rfc_balanced_best_test_proba = rfc_balanced_best.predict_proba(X_test)\n",
    "rfc_balanced_best_test_proba = rfc_balanced_best_test_proba[:, 1]\n",
    "\n",
    "rfc_balanced_best_test_roc_auc = roc_auc_score(y_test, rfc_balanced_best_test_proba)\n",
    "\n",
    "# Вывод результатов\n",
    "print(\"\\nМетрики лучшей модели (случайный лес) на тестовой выборке после дополнительного обучения на валидационной выборке:\")\n",
    "print(\"F1 = {:.3f}, AUC-ROC = {:.3f}\".format(rfc_balanced_best_test_f1, rfc_balanced_best_test_roc_auc))"
   ]
  },
  {
   "cell_type": "markdown",
   "id": "18f5edf6",
   "metadata": {},
   "source": [
    "## Вывод"
   ]
  },
  {
   "cell_type": "markdown",
   "id": "afae35dd",
   "metadata": {},
   "source": [
    "В ходе проекта мы построили модель для прогнозирования оттока клиентов из банка. Используя данные о поведении клиентов и расторжении договоров с банком, мы построили модели на основе логистической регрессии и случайного леса, чтобы предсказать, уйдет ли клиент из банка в ближайшее время или нет.\n",
    "\n",
    "В процессе обучения моделей мы столкнулись с проблемой дисбаланса классов, что привело к низкой производительности моделей. При обучении без учета дисбаланса классов мы увидели значительную разницу между случайным лесом и логистической регрессией, поэтому для дальнейших исследований решили использовать лучшую - случайный лес. Для борьбы с дисбалансом классов мы использовали методы взвешивания классов, upsampling и downsampling, чтобы улучшить производительность моделей.\n",
    "\n",
    "Был использован поиск по сетке, чтобы определить оптимальные гиперпараметры для моделей и сравнили производительность на валидационной выборке.\n",
    "\n",
    "Используя тестовую выборку, мы оценили производительность наших лучших моделей. Лучшей моделью оказалась модель случайного леса с взвешиванием классов и оптимальными гиперпараметрами, которая достигла метрики F1-меры на уровне 0.61.\n",
    "\n",
    "Таким образом, мы разработали модель с предельно большим значением F1-меры, которая может использоваться для прогнозирования оттока клиентов из банка. Результаты проекта могут быть полезны банкам, которые хотят повысить свою эффективность и сохранить текущих клиентов."
   ]
  },
  {
   "cell_type": "code",
   "execution_count": null,
   "id": "afbb0fb9",
   "metadata": {},
   "outputs": [],
   "source": []
  }
 ],
 "metadata": {
  "kernelspec": {
   "display_name": "Python 3 (ipykernel)",
   "language": "python",
   "name": "python3"
  },
  "language_info": {
   "codemirror_mode": {
    "name": "ipython",
    "version": 3
   },
   "file_extension": ".py",
   "mimetype": "text/x-python",
   "name": "python",
   "nbconvert_exporter": "python",
   "pygments_lexer": "ipython3",
   "version": "3.10.9"
  },
  "toc": {
   "base_numbering": 1,
   "nav_menu": {},
   "number_sections": true,
   "sideBar": true,
   "skip_h1_title": true,
   "title_cell": "Table of Contents",
   "title_sidebar": "Contents",
   "toc_cell": true,
   "toc_position": {
    "height": "calc(100% - 180px)",
    "left": "10px",
    "top": "150px",
    "width": "224px"
   },
   "toc_section_display": true,
   "toc_window_display": true
  }
 },
 "nbformat": 4,
 "nbformat_minor": 5
}
